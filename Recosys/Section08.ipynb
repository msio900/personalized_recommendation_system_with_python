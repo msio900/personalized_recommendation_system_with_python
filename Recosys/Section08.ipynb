{
 "cells": [
  {
   "cell_type": "markdown",
   "metadata": {},
   "source": [
    "# 8.1 Sparse Matrix의 개념과 Python에서의 사용"
   ]
  },
  {
   "cell_type": "code",
   "execution_count": 1,
   "metadata": {},
   "outputs": [
    {
     "name": "stdout",
     "output_type": "stream",
     "text": [
      "[[4. 0. 0.]\n",
      " [0. 3. 0.]\n",
      " [0. 0. 1.]]\n"
     ]
    }
   ],
   "source": [
    "import numpy as np\n",
    "import pandas as pd\n",
    "#sparse matrix를 사용하기 위한 scipy 라이브러리 \n",
    "from scipy.sparse import csr_matrix \n",
    "\n",
    "#간단한 테스트를 위한 임시 데이터\n",
    "ratings = {'user_id' : [1, 2, 4],\n",
    "           'movie_id':[2, 3, 7],\n",
    "           'rating' : [4, 3, 1]}\n",
    "ratings = pd.DataFrame(ratings)\n",
    "\n",
    "#Pandas pivot을 이용해서 full matrix 변환\n",
    "#일반적인 DataFrame의 pivot 기능을 사용해서 full matrix 변환\n",
    "rating_matrix = ratings.pivot(index = 'user_id',\n",
    "                              columns = 'movie_id',\n",
    "                              values = 'rating').fillna(0)\n",
    "      \n",
    "full_matrix1 = np.array(rating_matrix)\n",
    "print(full_matrix1)"
   ]
  },
  {
   "cell_type": "code",
   "execution_count": 2,
   "metadata": {},
   "outputs": [
    {
     "data": {
      "text/html": [
       "<div>\n",
       "<style scoped>\n",
       "    .dataframe tbody tr th:only-of-type {\n",
       "        vertical-align: middle;\n",
       "    }\n",
       "\n",
       "    .dataframe tbody tr th {\n",
       "        vertical-align: top;\n",
       "    }\n",
       "\n",
       "    .dataframe thead th {\n",
       "        text-align: right;\n",
       "    }\n",
       "</style>\n",
       "<table border=\"1\" class=\"dataframe\">\n",
       "  <thead>\n",
       "    <tr style=\"text-align: right;\">\n",
       "      <th>movie_id</th>\n",
       "      <th>2</th>\n",
       "      <th>3</th>\n",
       "      <th>7</th>\n",
       "    </tr>\n",
       "    <tr>\n",
       "      <th>user_id</th>\n",
       "      <th></th>\n",
       "      <th></th>\n",
       "      <th></th>\n",
       "    </tr>\n",
       "  </thead>\n",
       "  <tbody>\n",
       "    <tr>\n",
       "      <th>1</th>\n",
       "      <td>4.0</td>\n",
       "      <td>0.0</td>\n",
       "      <td>0.0</td>\n",
       "    </tr>\n",
       "    <tr>\n",
       "      <th>2</th>\n",
       "      <td>0.0</td>\n",
       "      <td>3.0</td>\n",
       "      <td>0.0</td>\n",
       "    </tr>\n",
       "    <tr>\n",
       "      <th>4</th>\n",
       "      <td>0.0</td>\n",
       "      <td>0.0</td>\n",
       "      <td>1.0</td>\n",
       "    </tr>\n",
       "  </tbody>\n",
       "</table>\n",
       "</div>"
      ],
      "text/plain": [
       "movie_id    2    3    7\n",
       "user_id                \n",
       "1         4.0  0.0  0.0\n",
       "2         0.0  3.0  0.0\n",
       "4         0.0  0.0  1.0"
      ]
     },
     "execution_count": 2,
     "metadata": {},
     "output_type": "execute_result"
    }
   ],
   "source": [
    "rating_matrix"
   ]
  },
  {
   "cell_type": "code",
   "execution_count": 3,
   "metadata": {},
   "outputs": [
    {
     "name": "stdout",
     "output_type": "stream",
     "text": [
      "  (1, 2)\t4\n",
      "  (2, 3)\t3\n",
      "  (4, 7)\t1\n"
     ]
    }
   ],
   "source": [
    "#Sparse matrix를 이용해서 full matrix 변환\n",
    "#원소의 값(평점) 지정 \n",
    "data = np.array(ratings['rating'])\n",
    "#row 인덱스 지정 \n",
    "row_indices = np.array(ratings['user_id'])\n",
    "#column 인덱스 지정\n",
    "col_indices = np.array(ratings['movie_id'])\n",
    "#원래 데이터를 아까 설명했던 csr_matrix로 변환 \n",
    "rating_matrix = csr_matrix((data,(row_indices, col_indices)),dtype=int)\n",
    "print(rating_matrix)"
   ]
  },
  {
   "cell_type": "code",
   "execution_count": 4,
   "metadata": {},
   "outputs": [
    {
     "data": {
      "text/plain": [
       "4"
      ]
     },
     "execution_count": 4,
     "metadata": {},
     "output_type": "execute_result"
    }
   ],
   "source": [
    "rating_matrix[1, 2]"
   ]
  },
  {
   "cell_type": "code",
   "execution_count": 5,
   "metadata": {},
   "outputs": [
    {
     "name": "stdout",
     "output_type": "stream",
     "text": [
      "[[0 0 0 0 0 0 0 0]\n",
      " [0 0 4 0 0 0 0 0]\n",
      " [0 0 0 3 0 0 0 0]\n",
      " [0 0 0 0 0 0 0 0]\n",
      " [0 0 0 0 0 0 0 1]]\n"
     ]
    }
   ],
   "source": [
    "full_matrix2 = rating_matrix.toarray()\n",
    "print(full_matrix2)"
   ]
  },
  {
   "cell_type": "markdown",
   "metadata": {},
   "source": [
    "# 8.2 Sparse Matrix를 추천 알고리즘에 적용하기"
   ]
  },
  {
   "cell_type": "code",
   "execution_count": 1,
   "metadata": {},
   "outputs": [
    {
     "ename": "ValueError",
     "evalue": "Unstacked DataFrame is too big, causing int32 overflow",
     "output_type": "error",
     "traceback": [
      "\u001b[1;31m---------------------------------------------------------------------------\u001b[0m",
      "\u001b[1;31mValueError\u001b[0m                                Traceback (most recent call last)",
      "\u001b[1;32m<ipython-input-1-d276daa88f26>\u001b[0m in \u001b[0;36m<module>\u001b[1;34m\u001b[0m\n\u001b[0;32m     16\u001b[0m                     encoding='latin-1')\n\u001b[0;32m     17\u001b[0m \u001b[1;33m\u001b[0m\u001b[0m\n\u001b[1;32m---> 18\u001b[1;33m \u001b[0mR_temp\u001b[0m \u001b[1;33m=\u001b[0m \u001b[0mratings\u001b[0m\u001b[1;33m.\u001b[0m\u001b[0mpivot\u001b[0m\u001b[1;33m(\u001b[0m\u001b[0mindex\u001b[0m\u001b[1;33m=\u001b[0m\u001b[1;34m'user_id'\u001b[0m\u001b[1;33m,\u001b[0m \u001b[0mcolumns\u001b[0m \u001b[1;33m=\u001b[0m \u001b[1;34m'movie_id'\u001b[0m\u001b[1;33m,\u001b[0m \u001b[0mvalues\u001b[0m \u001b[1;33m=\u001b[0m \u001b[1;34m'rating'\u001b[0m\u001b[1;33m)\u001b[0m\u001b[1;33m.\u001b[0m\u001b[0mfillna\u001b[0m\u001b[1;33m(\u001b[0m\u001b[1;36m0\u001b[0m\u001b[1;33m)\u001b[0m\u001b[1;33m\u001b[0m\u001b[0m\n\u001b[0m",
      "\u001b[1;32mC:\\Python\\Python36\\lib\\site-packages\\pandas\\core\\frame.py\u001b[0m in \u001b[0;36mpivot\u001b[1;34m(self, index, columns, values)\u001b[0m\n\u001b[0;32m   6676\u001b[0m         \u001b[1;32mfrom\u001b[0m \u001b[0mpandas\u001b[0m\u001b[1;33m.\u001b[0m\u001b[0mcore\u001b[0m\u001b[1;33m.\u001b[0m\u001b[0mreshape\u001b[0m\u001b[1;33m.\u001b[0m\u001b[0mpivot\u001b[0m \u001b[1;32mimport\u001b[0m \u001b[0mpivot\u001b[0m\u001b[1;33m\u001b[0m\u001b[0m\n\u001b[0;32m   6677\u001b[0m \u001b[1;33m\u001b[0m\u001b[0m\n\u001b[1;32m-> 6678\u001b[1;33m         \u001b[1;32mreturn\u001b[0m \u001b[0mpivot\u001b[0m\u001b[1;33m(\u001b[0m\u001b[0mself\u001b[0m\u001b[1;33m,\u001b[0m \u001b[0mindex\u001b[0m\u001b[1;33m=\u001b[0m\u001b[0mindex\u001b[0m\u001b[1;33m,\u001b[0m \u001b[0mcolumns\u001b[0m\u001b[1;33m=\u001b[0m\u001b[0mcolumns\u001b[0m\u001b[1;33m,\u001b[0m \u001b[0mvalues\u001b[0m\u001b[1;33m=\u001b[0m\u001b[0mvalues\u001b[0m\u001b[1;33m)\u001b[0m\u001b[1;33m\u001b[0m\u001b[0m\n\u001b[0m\u001b[0;32m   6679\u001b[0m \u001b[1;33m\u001b[0m\u001b[0m\n\u001b[0;32m   6680\u001b[0m     _shared_docs[\n",
      "\u001b[1;32mC:\\Python\\Python36\\lib\\site-packages\\pandas\\core\\reshape\\pivot.py\u001b[0m in \u001b[0;36mpivot\u001b[1;34m(data, index, columns, values)\u001b[0m\n\u001b[0;32m    475\u001b[0m         \u001b[1;32melse\u001b[0m\u001b[1;33m:\u001b[0m\u001b[1;33m\u001b[0m\u001b[0m\n\u001b[0;32m    476\u001b[0m             \u001b[0mindexed\u001b[0m \u001b[1;33m=\u001b[0m \u001b[0mdata\u001b[0m\u001b[1;33m.\u001b[0m\u001b[0m_constructor_sliced\u001b[0m\u001b[1;33m(\u001b[0m\u001b[0mdata\u001b[0m\u001b[1;33m[\u001b[0m\u001b[0mvalues\u001b[0m\u001b[1;33m]\u001b[0m\u001b[1;33m.\u001b[0m\u001b[0m_values\u001b[0m\u001b[1;33m,\u001b[0m \u001b[0mindex\u001b[0m\u001b[1;33m=\u001b[0m\u001b[0mindex\u001b[0m\u001b[1;33m)\u001b[0m\u001b[1;33m\u001b[0m\u001b[0m\n\u001b[1;32m--> 477\u001b[1;33m     \u001b[1;32mreturn\u001b[0m \u001b[0mindexed\u001b[0m\u001b[1;33m.\u001b[0m\u001b[0munstack\u001b[0m\u001b[1;33m(\u001b[0m\u001b[0mcolumns\u001b[0m\u001b[1;33m)\u001b[0m\u001b[1;33m\u001b[0m\u001b[0m\n\u001b[0m\u001b[0;32m    478\u001b[0m \u001b[1;33m\u001b[0m\u001b[0m\n\u001b[0;32m    479\u001b[0m \u001b[1;33m\u001b[0m\u001b[0m\n",
      "\u001b[1;32mC:\\Python\\Python36\\lib\\site-packages\\pandas\\core\\series.py\u001b[0m in \u001b[0;36munstack\u001b[1;34m(self, level, fill_value)\u001b[0m\n\u001b[0;32m   3901\u001b[0m         \u001b[1;32mfrom\u001b[0m \u001b[0mpandas\u001b[0m\u001b[1;33m.\u001b[0m\u001b[0mcore\u001b[0m\u001b[1;33m.\u001b[0m\u001b[0mreshape\u001b[0m\u001b[1;33m.\u001b[0m\u001b[0mreshape\u001b[0m \u001b[1;32mimport\u001b[0m \u001b[0munstack\u001b[0m\u001b[1;33m\u001b[0m\u001b[0m\n\u001b[0;32m   3902\u001b[0m \u001b[1;33m\u001b[0m\u001b[0m\n\u001b[1;32m-> 3903\u001b[1;33m         \u001b[1;32mreturn\u001b[0m \u001b[0munstack\u001b[0m\u001b[1;33m(\u001b[0m\u001b[0mself\u001b[0m\u001b[1;33m,\u001b[0m \u001b[0mlevel\u001b[0m\u001b[1;33m,\u001b[0m \u001b[0mfill_value\u001b[0m\u001b[1;33m)\u001b[0m\u001b[1;33m\u001b[0m\u001b[0m\n\u001b[0m\u001b[0;32m   3904\u001b[0m \u001b[1;33m\u001b[0m\u001b[0m\n\u001b[0;32m   3905\u001b[0m     \u001b[1;31m# ----------------------------------------------------------------------\u001b[0m\u001b[1;33m\u001b[0m\u001b[1;33m\u001b[0m\u001b[0m\n",
      "\u001b[1;32mC:\\Python\\Python36\\lib\\site-packages\\pandas\\core\\reshape\\reshape.py\u001b[0m in \u001b[0;36munstack\u001b[1;34m(obj, level, fill_value)\u001b[0m\n\u001b[0;32m    423\u001b[0m             \u001b[1;32mreturn\u001b[0m \u001b[0m_unstack_extension_series\u001b[0m\u001b[1;33m(\u001b[0m\u001b[0mobj\u001b[0m\u001b[1;33m,\u001b[0m \u001b[0mlevel\u001b[0m\u001b[1;33m,\u001b[0m \u001b[0mfill_value\u001b[0m\u001b[1;33m)\u001b[0m\u001b[1;33m\u001b[0m\u001b[0m\n\u001b[0;32m    424\u001b[0m         unstacker = _Unstacker(\n\u001b[1;32m--> 425\u001b[1;33m             \u001b[0mobj\u001b[0m\u001b[1;33m.\u001b[0m\u001b[0mindex\u001b[0m\u001b[1;33m,\u001b[0m \u001b[0mlevel\u001b[0m\u001b[1;33m=\u001b[0m\u001b[0mlevel\u001b[0m\u001b[1;33m,\u001b[0m \u001b[0mconstructor\u001b[0m\u001b[1;33m=\u001b[0m\u001b[0mobj\u001b[0m\u001b[1;33m.\u001b[0m\u001b[0m_constructor_expanddim\u001b[0m\u001b[1;33m,\u001b[0m\u001b[1;33m\u001b[0m\u001b[0m\n\u001b[0m\u001b[0;32m    426\u001b[0m         )\n\u001b[0;32m    427\u001b[0m         return unstacker.get_result(\n",
      "\u001b[1;32mC:\\Python\\Python36\\lib\\site-packages\\pandas\\core\\reshape\\reshape.py\u001b[0m in \u001b[0;36m__init__\u001b[1;34m(self, index, level, constructor)\u001b[0m\n\u001b[0;32m    116\u001b[0m \u001b[1;33m\u001b[0m\u001b[0m\n\u001b[0;32m    117\u001b[0m         \u001b[1;32mif\u001b[0m \u001b[0mnum_rows\u001b[0m \u001b[1;33m>\u001b[0m \u001b[1;36m0\u001b[0m \u001b[1;32mand\u001b[0m \u001b[0mnum_columns\u001b[0m \u001b[1;33m>\u001b[0m \u001b[1;36m0\u001b[0m \u001b[1;32mand\u001b[0m \u001b[0mnum_cells\u001b[0m \u001b[1;33m<=\u001b[0m \u001b[1;36m0\u001b[0m\u001b[1;33m:\u001b[0m\u001b[1;33m\u001b[0m\u001b[0m\n\u001b[1;32m--> 118\u001b[1;33m             \u001b[1;32mraise\u001b[0m \u001b[0mValueError\u001b[0m\u001b[1;33m(\u001b[0m\u001b[1;34m\"Unstacked DataFrame is too big, causing int32 overflow\"\u001b[0m\u001b[1;33m)\u001b[0m\u001b[1;33m\u001b[0m\u001b[0m\n\u001b[0m\u001b[0;32m    119\u001b[0m \u001b[1;33m\u001b[0m\u001b[0m\n\u001b[0;32m    120\u001b[0m         \u001b[0mself\u001b[0m\u001b[1;33m.\u001b[0m\u001b[0m_make_selectors\u001b[0m\u001b[1;33m(\u001b[0m\u001b[1;33m)\u001b[0m\u001b[1;33m\u001b[0m\u001b[0m\n",
      "\u001b[1;31mValueError\u001b[0m: Unstacked DataFrame is too big, causing int32 overflow"
     ]
    }
   ],
   "source": [
    "#데이터가 너무 길어서 오류가 뜸 \n",
    "\n",
    "from sklearn.model_selection import train_test_split\n",
    "import random\n",
    "import numpy as np\n",
    "import pandas as pd\n",
    "import os \n",
    "\n",
    "base_src = './Data'\n",
    "ratings_20m_src = os.path.join(base_src, 'ratings-20m.csv')\n",
    "r_cols = [\"user_id\",\"movie_id\",'rating','timestamp']\n",
    "#20M data 읽어오기 \n",
    "ratings = pd.read_csv(ratings_20m_src,\n",
    "                    sep = ',',\n",
    "                    names = r_cols,\n",
    "                    encoding='latin-1')\n",
    "\n",
    "R_temp = ratings.pivot(index='user_id', columns = 'movie_id', values = 'rating').fillna(0)"
   ]
  },
  {
   "cell_type": "code",
   "execution_count": 2,
   "metadata": {},
   "outputs": [
    {
     "ename": "ZeroDivisionError",
     "evalue": "division by zero",
     "output_type": "error",
     "traceback": [
      "\u001b[1;31m---------------------------------------------------------------------------\u001b[0m",
      "\u001b[1;31mZeroDivisionError\u001b[0m                         Traceback (most recent call last)",
      "\u001b[1;32m<ipython-input-2-e5d0399c4ad6>\u001b[0m in \u001b[0;36m<module>\u001b[1;34m\u001b[0m\n\u001b[0;32m    144\u001b[0m \u001b[0mmf\u001b[0m \u001b[1;33m=\u001b[0m \u001b[0mNEW_MF\u001b[0m\u001b[1;33m(\u001b[0m\u001b[0mR_temp\u001b[0m\u001b[1;33m,\u001b[0m \u001b[0mhyper_params\u001b[0m\u001b[1;33m)\u001b[0m\u001b[1;33m\u001b[0m\u001b[0m\n\u001b[0;32m    145\u001b[0m \u001b[0mtest_set\u001b[0m \u001b[1;33m=\u001b[0m \u001b[0mmf\u001b[0m\u001b[1;33m.\u001b[0m\u001b[0mset_test\u001b[0m\u001b[1;33m(\u001b[0m\u001b[0mratings_test\u001b[0m\u001b[1;33m)\u001b[0m \u001b[1;31m#일부분은 test로 지정\u001b[0m\u001b[1;33m\u001b[0m\u001b[0m\n\u001b[1;32m--> 146\u001b[1;33m \u001b[0mresult\u001b[0m \u001b[1;33m=\u001b[0m \u001b[0mmf\u001b[0m\u001b[1;33m.\u001b[0m\u001b[0mtest\u001b[0m\u001b[1;33m(\u001b[0m\u001b[1;33m)\u001b[0m\u001b[1;33m\u001b[0m\u001b[0m\n\u001b[0m",
      "\u001b[1;32m<ipython-input-2-e5d0399c4ad6>\u001b[0m in \u001b[0;36mtest\u001b[1;34m(self)\u001b[0m\n\u001b[0;32m    116\u001b[0m       \u001b[0mself\u001b[0m\u001b[1;33m.\u001b[0m\u001b[0msgd\u001b[0m\u001b[1;33m(\u001b[0m\u001b[1;33m)\u001b[0m \u001b[1;31m#weight 값 업데이트\u001b[0m\u001b[1;33m\u001b[0m\u001b[0m\n\u001b[0;32m    117\u001b[0m       \u001b[0mrmse1\u001b[0m \u001b[1;33m=\u001b[0m \u001b[0mself\u001b[0m\u001b[1;33m.\u001b[0m\u001b[0mrmse\u001b[0m\u001b[1;33m(\u001b[0m\u001b[1;33m)\u001b[0m \u001b[1;31m#training set\u001b[0m\u001b[1;33m\u001b[0m\u001b[0m\n\u001b[1;32m--> 118\u001b[1;33m       \u001b[0mrmse2\u001b[0m \u001b[1;33m=\u001b[0m \u001b[0mself\u001b[0m\u001b[1;33m.\u001b[0m\u001b[0mtest_rmse\u001b[0m\u001b[1;33m(\u001b[0m\u001b[1;33m)\u001b[0m \u001b[1;31m#test set\u001b[0m\u001b[1;33m\u001b[0m\u001b[0m\n\u001b[0m\u001b[0;32m    119\u001b[0m       \u001b[0mtraining_process\u001b[0m\u001b[1;33m.\u001b[0m\u001b[0mappend\u001b[0m\u001b[1;33m(\u001b[0m\u001b[1;33m(\u001b[0m\u001b[0mi\u001b[0m\u001b[1;33m+\u001b[0m\u001b[1;36m1\u001b[0m\u001b[1;33m,\u001b[0m \u001b[0mrmse1\u001b[0m\u001b[1;33m,\u001b[0m \u001b[0mrmse2\u001b[0m\u001b[1;33m)\u001b[0m\u001b[1;33m)\u001b[0m\u001b[1;33m\u001b[0m\u001b[0m\n\u001b[0;32m    120\u001b[0m       \u001b[1;32mif\u001b[0m \u001b[0mself\u001b[0m\u001b[1;33m.\u001b[0m\u001b[0mverbose\u001b[0m \u001b[1;33m==\u001b[0m \u001b[1;32mTrue\u001b[0m\u001b[1;33m:\u001b[0m\u001b[1;33m\u001b[0m\u001b[0m\n",
      "\u001b[1;32m<ipython-input-2-e5d0399c4ad6>\u001b[0m in \u001b[0;36mtest_rmse\u001b[1;34m(self)\u001b[0m\n\u001b[0;32m     97\u001b[0m       \u001b[1;31m#pow : 차승\u001b[0m\u001b[1;33m\u001b[0m\u001b[1;33m\u001b[0m\u001b[0m\n\u001b[0;32m     98\u001b[0m       \u001b[0merror\u001b[0m \u001b[1;33m+=\u001b[0m \u001b[0mpow\u001b[0m\u001b[1;33m(\u001b[0m\u001b[0mone_set\u001b[0m\u001b[1;33m[\u001b[0m\u001b[1;36m2\u001b[0m\u001b[1;33m]\u001b[0m\u001b[1;33m-\u001b[0m\u001b[0mpredicted\u001b[0m\u001b[1;33m,\u001b[0m \u001b[1;36m2\u001b[0m\u001b[1;33m)\u001b[0m\u001b[1;33m\u001b[0m\u001b[0m\n\u001b[1;32m---> 99\u001b[1;33m     \u001b[1;32mreturn\u001b[0m \u001b[0mnp\u001b[0m\u001b[1;33m.\u001b[0m\u001b[0msqrt\u001b[0m\u001b[1;33m(\u001b[0m\u001b[0merror\u001b[0m\u001b[1;33m/\u001b[0m\u001b[0mlen\u001b[0m\u001b[1;33m(\u001b[0m\u001b[0mself\u001b[0m\u001b[1;33m.\u001b[0m\u001b[0mtest_set\u001b[0m\u001b[1;33m)\u001b[0m\u001b[1;33m)\u001b[0m\u001b[1;33m\u001b[0m\u001b[0m\n\u001b[0m\u001b[0;32m    100\u001b[0m \u001b[1;33m\u001b[0m\u001b[0m\n\u001b[0;32m    101\u001b[0m   \u001b[1;32mdef\u001b[0m \u001b[0mtest\u001b[0m\u001b[1;33m(\u001b[0m\u001b[0mself\u001b[0m\u001b[1;33m)\u001b[0m\u001b[1;33m:\u001b[0m \u001b[1;31m#학습\u001b[0m\u001b[1;33m\u001b[0m\u001b[0m\n",
      "\u001b[1;31mZeroDivisionError\u001b[0m: division by zero"
     ]
    }
   ],
   "source": [
    "#Sparse Matrix 사용을 위한 라이브러리 \n",
    "from scipy.sparse import csr_matrix \n",
    "from sklearn.model_selection import train_test_split\n",
    "import random\n",
    "import numpy as np\n",
    "import pandas as pd\n",
    "import os \n",
    "\n",
    "base_src = './Data'\n",
    "ratings_20m_src = os.path.join(base_src, 'ratings-20m.csv')\n",
    "r_cols = [\"user_id\",\"movie_id\",'rating','timestamp']\n",
    "#20M data 읽어오기 \n",
    "ratings = pd.read_csv(ratings_20m_src,\n",
    "                    sep = ',',\n",
    "                    names = r_cols,\n",
    "                    encoding='latin-1')\n",
    "ratings = ratings[['user_id','movie_id','rating']].astype(int)\n",
    "\n",
    "#데이터 지정 \n",
    "data = np.array(ratings['rating'])\n",
    "#row 인덱스 저장 \n",
    "row_indices = np.array(ratings['user_id'])\n",
    "#column 인덱스 지정\n",
    "col_indices = np.array(ratings['movie_id'])\n",
    "#csr_matrix 형식으로 데이터를 변환해서 ratings에 저장한다. \n",
    "R_temp = csr_matrix((data,(row_indices, col_indices)),dtype=int)\n",
    "\n",
    "class NEW_MF(): \n",
    "  def __init__(self, ratings, hyper_params): \n",
    "    self.R = ratings\n",
    "    #사용자 수(num_users)와 아이템 수(num_iterms)를 받아온다.\n",
    "    self.num_users, self.num_items = np.shape(self.R)\n",
    "    #아래는 MF weight 조절을 위한 하이퍼파라미터이다. \n",
    "    #K : 잠재요인의 수 \n",
    "    self.K = hyper_params['K'] #key값 \n",
    "    self.alpha = hyper_params['alpha'] #학습률\n",
    "    self.beta = hyper_params['beta'] #정규화 계수 \n",
    "    self.iterations = hyper_params['iterations'] #반복 횟수\n",
    "    self.verbose = hyper_params['verbose'] #학습과정 출력 여부 결정 \n",
    "  \n",
    "  def rmse(self):\n",
    "    #rating data에서 0이 아닌 요소의 인덱스\n",
    "    xs, ys = self.R.nonzero() \n",
    "    #prediction과 error를 담을 리스트 변수 초기화 \n",
    "    self.predictions = []\n",
    "    self.errors = [] \n",
    "    #평점이 있는 요소(사용자 x, 아이템 y) 각각에 대해서 아래의 코드를 실행한다. \n",
    "    for x,y in zip(xs, ys): \n",
    "      #사용자 x, 아이템 y에 대해서 평점 예측치를 get_predition() 함수를 사용해서 계산한다.\n",
    "      prediction = self.get_prediction(x,y)\n",
    "      #예측값을 예측값 리스트에 추가한다.\n",
    "      self.predictions.append(prediction)\n",
    "      #실제값(R)과 예측값의 차이(errors) 계산해서 오차값 리스트에 추가한다.\n",
    "      self.errors.append(self.R[x,y]-prediction)\n",
    "    #예측값 리스트와 오차값 리스트를 numpy array형태로 변환한다.\n",
    "    self.predictions = np.array(self.predictions)\n",
    "    #error를 활용해서 RMSE 도출 \n",
    "    self.errors = np.array(self.errors)\n",
    "    return np.sqrt(np.mean(self.errors**2))\n",
    "\n",
    "  def get_prediction(self, i, j): \n",
    "    #사용자 i, 아이템 j에 대한 평점 예측치를 앞에서 배웠던 식을 이용해서 구한다.\n",
    "    prediction = self.b + self.b_u[i] + self.b_d[j] + self.P[i,:].dot(self.Q[j,].T) #전체 평점 + 유저에 대한 평가 경항 + 아이템에 대한 평가 경향 + 사용자 요인값*아이템 요인값\n",
    "    return prediction \n",
    "\n",
    "  def sgd(self): \n",
    "    for i,j,r in self.samples:  #i,j : 인덱스, r : 평점 \n",
    "      #사용자 i, 아이템 j에 대한 평점 예측치 계산 \n",
    "      prediction = self.get_prediction(i,j)\n",
    "      #실제 평점과 비교한 오차 계산 \n",
    "      e = (r-prediction)\n",
    "      \n",
    "      #사용자 평가 경향 계산 및 업데이트\n",
    "      self.b_u[i] += self.alpha * (e - (self.beta * self.b_u[i]))\n",
    "      #아이템 평가 경향 계산 및 업데이트\n",
    "      self.b_d[j] += self.alpha * (e- (self.beta * self.b_d[j]))\n",
    "\n",
    "      #P 행렬 계산 및 업데이트\n",
    "      self.P[i,:] += self.alpha * ((e * self.Q[j,:] - self.beta * self.P[i,:]))\n",
    "      #Q 행렬 계산 및 업데이트\n",
    "      self.Q[j,:] += self.alpha * ((e * self.P[i,:])- (self.beta * self.Q[j, :]))\n",
    "\n",
    "  #Test set 선정 \n",
    "  def set_test(self, ratings_test):\n",
    "    test_set = []\n",
    "    for i in range(len(ratings_test)):\n",
    "      x,y,z = ratings_test.iloc[i]\n",
    "      self.R[x,y] = 0 #평점 0으로 만들기 \n",
    "    self.test_set = test_set \n",
    "    return test_set \n",
    "\n",
    "  #Test set RMSE 계산 \n",
    "  def test_rmse(self):\n",
    "    error = 0\n",
    "    for one_set in self.test_set: \n",
    "      predicted = self.get_prediction(one_set[0],one_set[1])\n",
    "      #pow : 차승 \n",
    "      error += pow(one_set[2]-predicted, 2)\n",
    "    return np.sqrt(error/len(self.test_set))\n",
    "\n",
    "  def test(self): #학습 \n",
    "    self.P = np.random.normal(scale=1./self.K,\n",
    "                              size = (self.num_users, self.K))\n",
    "    self.Q = np.random.normal(scale=1./self.K,\n",
    "                              size = (self.num_items, self.K))\n",
    "    self.b_u = np.zeros(self.num_users)\n",
    "    self.b_d = np.zeros(self.num_items)\n",
    "    self.b = np.mean(self.R[self.R.nonzero()])\n",
    "\n",
    "    rows, columns = self.R.nonzero() \n",
    "    self.samples = [(i,j,self.R[i,j]) for i,j in zip(rows, columns)]\n",
    "\n",
    "    training_process = []\n",
    "    for i in range(self.iterations):\n",
    "      np.random.shuffle(self.samples)\n",
    "      self.sgd() #weight 값 업데이트 \n",
    "      rmse1 = self.rmse() #training set\n",
    "      rmse2 = self.test_rmse() #test set\n",
    "      training_process.append((i+1, rmse1, rmse2))\n",
    "      if self.verbose == True:\n",
    "        if (i+1) % 10 == 0:\n",
    "          print(\"Iteration : %d ; train RMSE = %.4f; test RMSE %.4f\"%(i+1, rmse1, rmse2))\n",
    "    return training_process \n",
    "\n",
    "  def get_one_prediction(self, user_id, item_id): #하나 예측 \n",
    "    return self.get_prediction(user_id, item_id)\n",
    "  \n",
    "  def full_prediction(self): #전체 예측 \n",
    "    return self.b + self.b_u[:, np.newaxis] + self.b_d[np.newaxis, :] + self.P.dot(self.Q.T)\n",
    "\n",
    "ratings_train, ratings_test = train_test_split(ratings, \n",
    "                                               test_size = 0.2,\n",
    "                                               shuffle = True,\n",
    "                                               random_state = 2021)\n",
    "      \n",
    "hyper_params = {\n",
    "    'K' : 30,\n",
    "    'alpha':0.001,\n",
    "    'beta':0.02,\n",
    "    'iterations':100,\n",
    "    'verbose':True\n",
    "}\n",
    "\n",
    "mf = NEW_MF(R_temp, hyper_params)\n",
    "test_set = mf.set_test(ratings_test) #일부분은 test로 지정 \n",
    "result = mf.test()"
   ]
  }
 ],
 "metadata": {
  "interpreter": {
   "hash": "4c65b98e956c6ae24f8ae0bc56d1e465ff92310dbdec0a4bd6b48ffdf1441c98"
  },
  "kernelspec": {
   "display_name": "Python 3.6.4 64-bit",
   "language": "python",
   "name": "python3"
  },
  "language_info": {
   "codemirror_mode": {
    "name": "ipython",
    "version": 3
   },
   "file_extension": ".py",
   "mimetype": "text/x-python",
   "name": "python",
   "nbconvert_exporter": "python",
   "pygments_lexer": "ipython3",
   "version": "3.6.4"
  },
  "orig_nbformat": 4
 },
 "nbformat": 4,
 "nbformat_minor": 2
}
