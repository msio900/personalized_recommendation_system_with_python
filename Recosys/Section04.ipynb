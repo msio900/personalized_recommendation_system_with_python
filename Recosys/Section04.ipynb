{
 "cells": [
  {
   "cell_type": "markdown",
   "metadata": {},
   "source": [
    "# 4.3 SGD를 사용한 MF 기본 알고리즘"
   ]
  },
  {
   "cell_type": "code",
   "execution_count": 2,
   "metadata": {},
   "outputs": [],
   "source": [
    "import os\n",
    "import numpy as np\n",
    "import pandas as pd\n",
    "\n",
    "base_src =  './Data'\n",
    "u_data_src = os.path.join(base_src, 'u.data')\n",
    "r_cols = ['user_id', 'movie_id', 'rating', 'timestamp']\n",
    "ratings = pd.read_csv(u_data_src,\n",
    "                        sep='\\t',\n",
    "                        names=r_cols,\n",
    "                        encoding='latin-1')\n",
    "\n",
    "# timestamp 제거\n",
    "ratings = ratings[['user_id', 'movie_id', 'rating']].astype(int)"
   ]
  },
  {
   "cell_type": "code",
   "execution_count": 6,
   "metadata": {},
   "outputs": [
    {
     "name": "stdout",
     "output_type": "stream",
     "text": [
      "Iteration : 10 ; train RMSE = 0.9588\n",
      "Iteration : 20 ; train RMSE = 0.9380\n",
      "Iteration : 30 ; train RMSE = 0.9291\n",
      "Iteration : 40 ; train RMSE = 0.9241\n",
      "Iteration : 50 ; train RMSE = 0.9208\n",
      "Iteration : 60 ; train RMSE = 0.9185\n",
      "Iteration : 70 ; train RMSE = 0.9166\n",
      "Iteration : 80 ; train RMSE = 0.9150\n",
      "Iteration : 90 ; train RMSE = 0.9135\n",
      "Iteration : 100 ; train RMSE = 0.9120\n"
     ]
    }
   ],
   "source": [
    "class MF():\n",
    "    def __init__(self, ratings, hyper_params):\n",
    "        self.R = np.array(ratings)\n",
    "        self.num_users, self.num_items = np.shape(self.R)\n",
    "        self.K = hyper_params['K']\n",
    "        self.alpha = hyper_params['alpha']\n",
    "        self.beta = hyper_params['beta']\n",
    "        self.iterations = hyper_params['iterations']\n",
    "        self.verbose = hyper_params['verbose']\n",
    "\n",
    "    def rmse(self):\n",
    "        xs, ys = self.R.nonzero()\n",
    "        self.predictions = []\n",
    "        self.errors = []\n",
    "\n",
    "        for x, y in zip(xs, ys):\n",
    "            prediction = self.get_prediction(x, y)\n",
    "            self.predictions.append(prediction)\n",
    "            self.errors.append(self.R[x, y] - prediction)\n",
    "        self.predictions = np.array(self.predictions)\n",
    "        self.errors = np.array(self.errors)\n",
    "\n",
    "        return np.sqrt(np.mean(self.errors**2))\n",
    "\n",
    "    def train(self):\n",
    "        self.P = np.random.normal(scale=1./self.K,                  # scale = 표준편차를 이야기함\n",
    "                                    size=(self.num_users, self.K))  # size 실제 유저수와 잠재요인의 갯수 = 크기 값\n",
    "        self.Q = np.random.normal(scale=1./self.K,\n",
    "                                    size = (self.num_items, self.K))\n",
    "\n",
    "        self.b_u = np.zeros(self.num_users)\n",
    "        self.b_d = np.zeros(self.num_items)\n",
    "        self.b = np.mean(self.R[self.R.nonzero()])\n",
    "\n",
    "        rows, columns = self.R.nonzero()\n",
    "        self.samples = [(i, j, self.R[i, j]) for i, j in zip(rows, columns)]\n",
    "\n",
    "        training_process = []\n",
    "        for i in range(self.iterations):\n",
    "            np.random.shuffle(self.samples)\n",
    "            self.sgd()\n",
    "            rmse = self.rmse()\n",
    "            training_process.append((i+1, rmse)) # 몇번 째의 RMSE인지?\n",
    "            if self.verbose:\n",
    "                if (i+1) % 10 == 0:\n",
    "                    print('Iteration : %d ; train RMSE = %.4f'%(i + 1, rmse))\n",
    "        return training_process\n",
    "\n",
    "    def get_prediction(self, i, j):\n",
    "        prediction = self.b + self.b_u[i] +self.b_d[j] + self.P[i, :].dot(self.Q[j,].T)\n",
    "        return prediction\n",
    "    def sgd(self):\n",
    "        for i, j, r in self.samples:\n",
    "            prediction = self.get_prediction(i, j)\n",
    "            e = (r-prediction)\n",
    "\n",
    "            self.b_u[i] += self.alpha * (e - (self.beta * self.b_u[i]))\n",
    "            self.b_d[j] += self.alpha * (e - (self.beta * self.b_d[j]))\n",
    "\n",
    "            self.P[i,:] += self.alpha * ((e * self.Q[j,:] - (self.beta * self.P[i, :])))\n",
    "            self.Q[j,:] += self.alpha * ((e * self.Q[i,:] - (self.beta * self.Q[j, :])))\n",
    "\n",
    "R_temp = ratings.pivot(index='user_id',\\\n",
    "                        columns='movie_id',\n",
    "                        values='rating').fillna(0)\n",
    "\n",
    "hyper_params = {\n",
    "    'K' : 30,\n",
    "    'alpha' : 0.001,\n",
    "    'beta' : 0.02,\n",
    "    'iterations' :100,\n",
    "    'verbose' : True\n",
    "}\n",
    "\n",
    "mf = MF(R_temp, hyper_params)\n",
    "\n",
    "train_process = mf.train()"
   ]
  }
 ],
 "metadata": {
  "interpreter": {
   "hash": "4c65b98e956c6ae24f8ae0bc56d1e465ff92310dbdec0a4bd6b48ffdf1441c98"
  },
  "kernelspec": {
   "display_name": "Python 3.6.4 64-bit",
   "language": "python",
   "name": "python3"
  },
  "language_info": {
   "codemirror_mode": {
    "name": "ipython",
    "version": 3
   },
   "file_extension": ".py",
   "mimetype": "text/x-python",
   "name": "python",
   "nbconvert_exporter": "python",
   "pygments_lexer": "ipython3",
   "version": "3.8.8"
  },
  "orig_nbformat": 4
 },
 "nbformat": 4,
 "nbformat_minor": 2
}
